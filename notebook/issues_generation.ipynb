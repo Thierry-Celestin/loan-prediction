{
 "cells": [
  {
   "cell_type": "code",
   "execution_count": 11,
   "id": "00f1c107-528c-405b-97ef-058f7662a409",
   "metadata": {},
   "outputs": [],
   "source": [
    "import pandas as pd\n",
    "import numpy as np"
   ]
  },
  {
   "cell_type": "code",
   "execution_count": 12,
   "id": "27d0bd0c-bd1c-4b16-be23-1d3a028730b3",
   "metadata": {},
   "outputs": [],
   "source": [
    "# Load the dataset\n",
    "df = pd.read_csv('/Users/legue/dsp-loanprediction/model_training/loan_approval_data.csv')\n"
   ]
  },
  {
   "cell_type": "code",
   "execution_count": 13,
   "id": "51428f7b-c050-4399-af28-8a41ac5b4d13",
   "metadata": {},
   "outputs": [],
   "source": [
    "# 1. Missing a required feature (remove a column)\n",
    "df_missing_column = df.drop(columns=['dependents'])"
   ]
  },
  {
   "cell_type": "code",
   "execution_count": 14,
   "id": "8238ae34-6adc-4353-b183-96a488fa4a33",
   "metadata": {},
   "outputs": [],
   "source": [
    "# 2. Missing values in a required column\n",
    "df_missing_values = df.copy()\n",
    "df_missing_values.loc[5:10, 'education'] = np.nan"
   ]
  },
  {
   "cell_type": "code",
   "execution_count": 15,
   "id": "647f56d5-5a7d-40e0-9834-6d999dcf890b",
   "metadata": {},
   "outputs": [],
   "source": [
    "# 3. Unknown values for a given feature\n",
    "df_unknown_value = df.copy()\n",
    "df_unknown_value.loc[3, 'employment'] = 'Unknown'"
   ]
  },
  {
   "cell_type": "code",
   "execution_count": 16,
   "id": "7b8804e4-4d6b-45dd-a471-da2479dac2a2",
   "metadata": {},
   "outputs": [],
   "source": [
    "# 4. Wrong value for a given feature (e.g., negative loan_amount)\n",
    "df_wrong_value = df.copy()\n",
    "df_wrong_value.loc[7, 'loan_amount'] = -5000"
   ]
  },
  {
   "cell_type": "code",
   "execution_count": 17,
   "id": "1040a657-9451-4dd6-9dba-b4fe146b4816",
   "metadata": {},
   "outputs": [
    {
     "name": "stderr",
     "output_type": "stream",
     "text": [
      "C:\\Users\\legue\\AppData\\Local\\Temp\\ipykernel_19160\\598428454.py:3: FutureWarning: Setting an item of incompatible dtype is deprecated and will raise in a future error of pandas. Value 'invalid_score' has dtype incompatible with int64, please explicitly cast to a compatible dtype first.\n",
      "  df_string_value.loc[2, 'cibil_score'] = 'invalid_score'\n"
     ]
    }
   ],
   "source": [
    "# 5. A string in a numerical column (e.g., cibil_score)\n",
    "df_string_value = df.copy()\n",
    "df_string_value.loc[2, 'cibil_score'] = 'invalid_score'"
   ]
  },
  {
   "cell_type": "code",
   "execution_count": 18,
   "id": "592468a6-0979-45a1-be71-1ccb6403a9ff",
   "metadata": {},
   "outputs": [],
   "source": [
    "# 6. Missing loan_status (binary column with missing values)\n",
    "df_missing_status = df.copy()\n",
    "df_missing_status.loc[8:15, 'loan_status'] = np.nan"
   ]
  },
  {
   "cell_type": "code",
   "execution_count": 19,
   "id": "26763333-639c-408a-ae85-c4b5989319ca",
   "metadata": {},
   "outputs": [],
   "source": [
    "# 7. Outlier values in loan_term (extremely high/low values)\n",
    "df_outliers = df.copy()\n",
    "df_outliers.loc[0, 'loan_term'] = 1000  # high value"
   ]
  },
  {
   "cell_type": "code",
   "execution_count": 20,
   "id": "3ec37e0c-0fe5-487b-8f11-43e06714ce44",
   "metadata": {},
   "outputs": [],
   "source": [
    "\n",
    "# Save the data frames with issues\n",
    "df_missing_column.to_csv('/Users/legue/dsp-loanprediction/data/raw_data/missing_column.csv', index=False)\n",
    "df_missing_values.to_csv('/Users/legue/dsp-loanprediction/data/raw_data/missing_values.csv', index=False)\n",
    "df_unknown_value.to_csv('/Users/legue/dsp-loanprediction/data/raw_data/unknown_value.csv', index=False)\n",
    "df_wrong_value.to_csv('/Users/legue/dsp-loanprediction/data/raw_data/wrong_value.csv', index=False)\n",
    "df_string_value.to_csv('/Users/legue/dsp-loanprediction/data/raw_data/string_value.csv', index=False)\n",
    "df_missing_status.to_csv('/Users/legue/dsp-loanprediction/data/raw_data/missing_status.csv', index=False)\n",
    "df_outliers.to_csv('/Users/legue/dsp-loanprediction/data/raw_data/outliers.csv', index=False)"
   ]
  },
  {
   "cell_type": "code",
   "execution_count": null,
   "id": "05482db9-4129-4db8-bb73-77e4564f668f",
   "metadata": {},
   "outputs": [],
   "source": []
  }
 ],
 "metadata": {
  "kernelspec": {
   "display_name": "ml",
   "language": "python",
   "name": "python3"
  },
  "language_info": {
   "codemirror_mode": {
    "name": "ipython",
    "version": 3
   },
   "file_extension": ".py",
   "mimetype": "text/x-python",
   "name": "python",
   "nbconvert_exporter": "python",
   "pygments_lexer": "ipython3",
   "version": "3.9.19"
  }
 },
 "nbformat": 4,
 "nbformat_minor": 5
}
